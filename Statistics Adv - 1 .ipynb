{
 "cells": [
  {
   "cell_type": "markdown",
   "id": "1474b790-9f09-457a-8b36-923bdb3cebea",
   "metadata": {},
   "source": [
    "### Q1. What is the Probability density function?"
   ]
  },
  {
   "cell_type": "markdown",
   "id": "99193b00-521b-47b6-9b9b-5333c4456418",
   "metadata": {},
   "source": [
    "#### Ans:-  The Probability Density Function (PDF) is a statistical function that describes the likelihood of obtaining a particular value from a continuous random variable. In other words, it represents the probability of a random variable falling within a particular range. For continuous random variables, the probability at a specific point is given by the derivative of the cumulative distribution function (CDF) with respect to that point."
   ]
  },
  {
   "cell_type": "code",
   "execution_count": null,
   "id": "f1d053a9-5050-477f-9c1d-5057ef1bb0dd",
   "metadata": {},
   "outputs": [],
   "source": []
  },
  {
   "cell_type": "markdown",
   "id": "d704590f-038a-491b-a9d7-4ba494ba88ee",
   "metadata": {},
   "source": [
    "### Q2. What are the types of Probability distribution?\n",
    "\n"
   ]
  },
  {
   "cell_type": "markdown",
   "id": "9ccdad70-ec4d-410a-a09f-63f01c854c1c",
   "metadata": {},
   "source": [
    "#### Ans:- There are several types of probability distributions, including:"
   ]
  },
  {
   "cell_type": "markdown",
   "id": "5c05f7aa-e31c-465d-879c-3067771e004c",
   "metadata": {},
   "source": [
    "1. Uniform Distribution: All outcomes are equally likely.\n",
    "\n",
    "2. Normal Distribution: Bell-shaped curve, symmetric around the mean.\n",
    "\n",
    "3. Binomial Distribution: Describes the number of successes in a fixed number of independent Bernoulli trials.\n",
    "\n",
    "4. Poisson Distribution: Models the number of events occurring in a fixed interval of time or space.\n",
    "\n",
    "5. Exponential Distribution: Describes the time between events in a Poisson process.\n",
    "\n",
    "6. Gamma Distribution: Generalizes the exponential distribution to non-integer parameters.\n",
    "\n",
    "7. Logistic Distribution: S-shaped curve, commonly used in logistic regression.\n",
    "\n",
    "8. Bernoulli Distribution: Represents a binary outcome (success/failure)."
   ]
  },
  {
   "cell_type": "markdown",
   "id": "057ec40d-c4ca-4a73-83e0-a5944c0282e5",
   "metadata": {},
   "source": [
    "### Q3. Write a Python function to calculate the probability density function of a normal distribution with given mean and standard deviation at a given point.\n",
    "\n"
   ]
  },
  {
   "cell_type": "markdown",
   "id": "4bce3102-bef1-487f-bd3c-689f582248d4",
   "metadata": {},
   "source": [
    "#### Ans:- "
   ]
  },
  {
   "cell_type": "code",
   "execution_count": 1,
   "id": "e34061cb-65ac-4e1c-8bee-26c09bd96b12",
   "metadata": {},
   "outputs": [],
   "source": [
    "import math\n",
    "\n",
    "def normal_pdf(x, mean, std_dev):\n",
    "    exponent = -(1/2) * ((x - mean) / std_dev) ** 2\n",
    "    coefficient = 1 / (std_dev * math.sqrt(2 * math.pi))\n",
    "    return coefficient * math.exp(exponent)\n"
   ]
  },
  {
   "cell_type": "code",
   "execution_count": 4,
   "id": "406f6a0c-dc93-4014-8856-7ae9b588856f",
   "metadata": {},
   "outputs": [
    {
     "data": {
      "text/plain": [
       "0.007767442199328518"
      ]
     },
     "execution_count": 4,
     "metadata": {},
     "output_type": "execute_result"
    }
   ],
   "source": [
    "normal_pdf(50, 20, 25)"
   ]
  },
  {
   "cell_type": "code",
   "execution_count": 5,
   "id": "48261be0-7b01-40a0-ae94-2bc12eed2385",
   "metadata": {},
   "outputs": [
    {
     "name": "stdout",
     "output_type": "stream",
     "text": [
      "Probability Density at x = 1.5 is: 0.12951759566589174\n"
     ]
    }
   ],
   "source": [
    "import math\n",
    "\n",
    "def normal_pdf(x, mean, std_dev):\n",
    "    exponent = -(1/2) * ((x - mean) / std_dev) ** 2\n",
    "    coefficient = 1 / (std_dev * math.sqrt(2 * math.pi))\n",
    "    return coefficient * math.exp(exponent)\n",
    "\n",
    "# Example usage:\n",
    "mean_value = 0\n",
    "std_dev_value = 1\n",
    "x_value = 1.5\n",
    "\n",
    "result = normal_pdf(x_value, mean_value, std_dev_value)\n",
    "print(\"Probability Density at x =\", x_value, \"is:\", result)\n"
   ]
  },
  {
   "cell_type": "markdown",
   "id": "72f04b79-0d8e-4d57-a408-389bbf859eb5",
   "metadata": {},
   "source": [
    "### Q4. What are the properties of Binomial distribution? Give two examples of events where binomial distribution can be applied.\n"
   ]
  },
  {
   "cell_type": "markdown",
   "id": "e6610158-ff6d-4730-b919-201e59e3a0d3",
   "metadata": {},
   "source": [
    "#### Ans:- Properties of Binomial Distribution:"
   ]
  },
  {
   "cell_type": "markdown",
   "id": "fa93390b-ead3-4bdb-bd23-98a796f3491d",
   "metadata": {
    "tags": []
   },
   "source": [
    "* Fixed number of trials (n).\n",
    "* Each trial is independent.\n",
    "* Two possible outcomes (success/failure).\n",
    "* Probability of success (p) is constant.\n",
    "\n",
    "##### Examples:\n",
    "\n",
    "1. Coin Toss: Success (heads), Failure (tails).\n",
    "2. Quality Control: Defective (success), Non-defective (failure)."
   ]
  },
  {
   "cell_type": "markdown",
   "id": "a57a2292-2257-4fe4-ab8b-7b6515ee54f4",
   "metadata": {},
   "source": [
    "\n",
    "### Q5. Generate a random sample of size 1000 from a binomial distribution with probability of success 0.4 and plot a histogram of the results using matplotlib.\n"
   ]
  },
  {
   "cell_type": "markdown",
   "id": "e84fd533-a1b0-4e57-b1f4-6b818c718d19",
   "metadata": {},
   "source": [
    "#### Ans:- "
   ]
  },
  {
   "cell_type": "code",
   "execution_count": 7,
   "id": "a239c8d4-c126-471e-8efd-e8b0bb8ed346",
   "metadata": {},
   "outputs": [
    {
     "data": {
      "image/png": "[encoded data removed]",
      "text/plain": [
       "<Figure size 640x480 with 1 Axes>"
      ]
     },
     "metadata": {},
     "output_type": "display_data"
    }
   ],
   "source": [
    "import matplotlib.pyplot as plt\n",
    "import numpy as np\n",
    "\n",
    "# Generate random sample\n",
    "sample = np.random.binomial(n=1, p=0.4, size=1000)\n",
    "\n",
    "# Plot histogram\n",
    "plt.hist(sample, bins=[-0.5, 0.5, 1.5], edgecolor='green')\n",
    "plt.xlabel('Outcome')\n",
    "plt.ylabel('Frequency')\n",
    "plt.title('Binomial Distribution Sample')\n",
    "plt.show()\n"
   ]
  },
  {
   "cell_type": "markdown",
   "id": "953032e6-a3ed-4237-960e-f891ac6b06b4",
   "metadata": {},
   "source": [
    "\n",
    "### Q6. Write a Python function to calculate the cumulative distribution function of a Poisson distribution with given mean at a given point.\n"
   ]
  },
  {
   "cell_type": "markdown",
   "id": "ca5e6ea6-d284-4a24-9d79-ba18b65f89cd",
   "metadata": {},
   "source": [
    "#### Ans:- "
   ]
  },
  {
   "cell_type": "code",
   "execution_count": 8,
   "id": "f827f58f-63e4-4fbb-bc61-60f5ee1a3be4",
   "metadata": {},
   "outputs": [
    {
     "name": "stdout",
     "output_type": "stream",
     "text": [
      "Cumulative Distribution Function at x = 2 is: 0.42319008112684353\n"
     ]
    }
   ],
   "source": [
    "import math\n",
    "\n",
    "def poisson_cdf(x, mean):\n",
    "    cdf = 0\n",
    "    for i in range(x + 1):\n",
    "        cdf += math.exp(-mean) * (mean**i) / math.factorial(i)\n",
    "    return cdf\n",
    "\n",
    "# Example usage:\n",
    "mean_value = 3\n",
    "x_value = 2\n",
    "\n",
    "result = poisson_cdf(x_value, mean_value)\n",
    "print(\"Cumulative Distribution Function at x =\", x_value, \"is:\", result)\n"
   ]
  },
  {
   "cell_type": "markdown",
   "id": "2e7750c6-f0c4-48a8-96f0-3dfbcd0ac407",
   "metadata": {},
   "source": [
    "\n",
    "### Q7. How Binomial distribution different from Poisson distribution?\n"
   ]
  },
  {
   "cell_type": "markdown",
   "id": "7440654e-722f-47db-b07d-cddba61a1903",
   "metadata": {},
   "source": [
    "#### Ans:- The main differences between Binomial and Poisson distributions are:"
   ]
  },
  {
   "cell_type": "markdown",
   "id": "214d47f9-d02c-44de-b855-c6cd6f986a07",
   "metadata": {},
   "source": [
    "* Number of Trials: Binomial distribution has a fixed number of trials (n), while Poisson distribution is based on the number of events in a fixed interval.\n",
    "\n",
    "* Nature of Events: Binomial distribution deals with binary outcomes (success/failure), whereas Poisson distribution models the number of events occurring in a continuous or infinite interval.\n",
    "\n",
    "* Probability of Success: In Binomial, the probability of success (p) is constant across trials. In Poisson, it represents the average rate of event occurrences per unit.\n"
   ]
  },
  {
   "cell_type": "markdown",
   "id": "370df639-75ba-4f80-a551-e71a470aba30",
   "metadata": {},
   "source": [
    "\n",
    "### Q8. Generate a random sample of size 1000 from a Poisson distribution with mean 5 and calculate the sample mean and variance.\n"
   ]
  },
  {
   "cell_type": "markdown",
   "id": "9760ef8c-18fc-47d9-b5cf-6fad03ce2d8c",
   "metadata": {},
   "source": [
    "#### Ans:- "
   ]
  },
  {
   "cell_type": "code",
   "execution_count": 10,
   "id": "3101b51e-882b-4310-a309-d912437660e9",
   "metadata": {},
   "outputs": [
    {
     "name": "stdout",
     "output_type": "stream",
     "text": [
      "Sample Mean: 5.045\n",
      "Sample Variance: 4.988975\n"
     ]
    }
   ],
   "source": [
    "import numpy as np\n",
    "\n",
    "# Generate random sample\n",
    "poisson_sample = np.random.poisson(lam=5, size=1000)\n",
    "\n",
    "# Calculate sample mean and variance\n",
    "sample_mean = np.mean(poisson_sample)\n",
    "sample_variance = np.var(poisson_sample)\n",
    "\n",
    "print(\"Sample Mean:\", sample_mean)\n",
    "print(\"Sample Variance:\", sample_variance)\n"
   ]
  },
  {
   "cell_type": "markdown",
   "id": "6fadefd8-f2f2-416b-9761-a0bb3f61b41c",
   "metadata": {},
   "source": [
    "\n",
    "### Q9. How mean and variance are related in Binomial distribution and Poisson distribution?\n"
   ]
  },
  {
   "cell_type": "markdown",
   "id": "7448811d-b1ee-4158-8ce3-1a275c4b8602",
   "metadata": {},
   "source": [
    "#### Ans:- For both Binomial and Poisson distributions:"
   ]
  },
  {
   "cell_type": "markdown",
   "id": "a522d7c8-e019-4ec8-a323-e47b36b33241",
   "metadata": {},
   "source": [
    "* Mean (μ): Mean is equal to the product of the number of trials (n) and the probability of success (p) in the Binomial distribution. In the Poisson distribution, the mean (λ) represents the average rate of event occurrences per unit.\n",
    "\n",
    "* Variance (σ^2): Variance is equal to the product of the number of trials (n), the probability of success (p), and the probability of failure (q=1-p) in the Binomial distribution. In the Poisson distribution, the variance is also equal to the mean (λ)."
   ]
  },
  {
   "cell_type": "markdown",
   "id": "306334a4-d3b6-43bc-a630-564123f6aabf",
   "metadata": {},
   "source": [
    "\n",
    "### Q10. In normal distribution with respect to mean position, where does the least frequent data appear?"
   ]
  },
  {
   "cell_type": "markdown",
   "id": "fea1895f-8a78-4b73-8eb4-2dc8287e03eb",
   "metadata": {},
   "source": [
    "#### Ans:- In a normal distribution, the least frequent data appears in the tails of the distribution, farthest from the mean. The probability density is lower in the tails, indicating that extreme values are less likely to occur."
   ]
  },
  {
   "cell_type": "code",
   "execution_count": null,
   "id": "71040fb5-1a57-47c3-86e1-95386f174de3",
   "metadata": {},
   "outputs": [],
   "source": []
  }
 ],
 "metadata": {
  "kernelspec": {
   "display_name": "Python 3 (ipykernel)",
   "language": "python",
   "name": "python3"
  },
  "language_info": {
   "codemirror_mode": {
    "name": "ipython",
    "version": 3
   },
   "file_extension": ".py",
   "mimetype": "text/x-python",
   "name": "python",
   "nbconvert_exporter": "python",
   "pygments_lexer": "ipython3",
   "version": "3.10.8"
  }
 },
 "nbformat": 4,
 "nbformat_minor": 5
}
